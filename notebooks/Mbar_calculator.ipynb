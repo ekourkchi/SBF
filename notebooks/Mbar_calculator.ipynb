{
 "cells": [
  {
   "cell_type": "markdown",
   "id": "28d578b3",
   "metadata": {},
   "source": [
    "Calculate Mbar for distance measurements.\n",
    "17 Dec 2022, J. Jensen\n",
    "Lightly tested using only a single galaxy and wavelength"
   ]
  },
  {
   "cell_type": "code",
   "execution_count": 1,
   "id": "08482bd3",
   "metadata": {},
   "outputs": [],
   "source": [
    "import sys, os\n",
    "import datetime\n",
    "from settings import *\n",
    "\n",
    "sys.path.insert(0, PYSBF_PATH)\n",
    "from pysbf import *"
   ]
  },
  {
   "cell_type": "code",
   "execution_count": 2,
   "id": "0c8b0e88",
   "metadata": {},
   "outputs": [
    {
     "data": {
      "text/plain": [
       "('/media/Data/Home/PanStarrs/Jan/HI/augment/SBF/codes/notebooks/data/wfc3/',\n",
       " '/media/Data/Home/PanStarrs/Jan/HI/augment/SBF/codes/notebooks/output/')"
      ]
     },
     "execution_count": 2,
     "metadata": {},
     "output_type": "execute_result"
    }
   ],
   "source": [
    "IN_FOLDER, OUT_FOLDER"
   ]
  },
  {
   "cell_type": "code",
   "execution_count": 3,
   "id": "90d95c37",
   "metadata": {},
   "outputs": [
    {
     "data": {
      "text/plain": [
       "('/media/Data/Home/PanStarrs/Jan/HI/augment/SBF/codes/notebooks/data/PS/',\n",
       " '/media/Data/Home/PanStarrs/Jan/HI/augment/SBF/codes/notebooks/data/wfc3/',\n",
       " '/media/Data/Home/PanStarrs/Jan/HI/augment/SBF/codes/pysbf/config/')"
      ]
     },
     "execution_count": 3,
     "metadata": {},
     "output_type": "execute_result"
    }
   ],
   "source": [
    "PS_PATH, IN_FOLDER, CONFIG_FOLDER"
   ]
  },
  {
   "cell_type": "code",
   "execution_count": 4,
   "id": "7b439cc7",
   "metadata": {},
   "outputs": [
    {
     "name": "stdout",
     "output_type": "stream",
     "text": [
      "/media/Data/Home/PanStarrs/Jan/HI/augment/SBF/codes/pysbf/py/params/mbar_calibrations.yml\r\n"
     ]
    }
   ],
   "source": [
    "! ls  {DEFAULT_MBAR_CALIB}"
   ]
  },
  {
   "cell_type": "code",
   "execution_count": 5,
   "id": "d896a623",
   "metadata": {},
   "outputs": [
    {
     "name": "stdout",
     "output_type": "stream",
     "text": [
      "/media/Data/Home/PanStarrs/Jan/HI/augment/SBF/codes/pysbf/py/params/mbar_params.yml\r\n"
     ]
    }
   ],
   "source": [
    "! ls  {DEFAULT_MBAR_PARAM}"
   ]
  },
  {
   "cell_type": "code",
   "execution_count": 6,
   "id": "8ae4fe3d",
   "metadata": {},
   "outputs": [],
   "source": [
    "pysbf_path = PYSBF_PATH\n",
    "galaxy_root = IN_FOLDER\n",
    "PS_root = PS_PATH\n",
    "configFolder = CONFIG_FOLDER"
   ]
  },
  {
   "cell_type": "code",
   "execution_count": 22,
   "id": "aa4e5c57",
   "metadata": {},
   "outputs": [
    {
     "data": {
      "text/plain": [
       "{'AVC0': 1.356786847114563,\n",
       " 'AVC1': 1.362874984741211,\n",
       " 'AVC2': 1.3603893518447876,\n",
       " 'AVC5': 1.3620602190494537,\n",
       " 'Camera': 'PS',\n",
       " 'Dec': 43.95766666667,\n",
       " 'MEDC0': 1.3593435287475586,\n",
       " 'MEDC1': 1.3640217781066895,\n",
       " 'MEDC2': 1.3630905151367188,\n",
       " 'MEDC5': 1.3597984611988068,\n",
       " 'RA': 349.9766666667,\n",
       " 'Radii': [{'Average_radius': 23.4},\n",
       "  {'Average_radius': 23.2},\n",
       "  {'Average_radius': 50.2},\n",
       "  {'Average_radius': 92.5},\n",
       "  {'Average_radius': 183.2},\n",
       "  {'Average_radius': 176.5},\n",
       "  {'Average_radius': 179.2},\n",
       "  {'Average_radius': 182.9}],\n",
       " 'bands': ['g', 'z'],\n",
       " 'extinctions': [0.592, 0.247],\n",
       " 'name': 'u12517'}"
      ]
     },
     "execution_count": 22,
     "metadata": {},
     "output_type": "execute_result"
    }
   ],
   "source": [
    "with open(\"u12517_color_ps_gz.json\", 'r') as f:\n",
    "        colors = json.load(f)\n",
    "\n",
    "colors"
   ]
  },
  {
   "cell_type": "code",
   "execution_count": null,
   "id": "e25f43d4",
   "metadata": {},
   "outputs": [],
   "source": []
  },
  {
   "cell_type": "code",
   "execution_count": 14,
   "id": "7ddf7a3d",
   "metadata": {},
   "outputs": [
    {
     "name": "stdout",
     "output_type": "stream",
     "text": [
      "c0: (g_z) = 1.475 +/- 0.038   Mbar = -2.701 +/- 0.119\n",
      "c1: (g_z) = 1.481 +/- 0.038   Mbar = -2.69 +/- 0.119\n",
      "c2: (g_z) = 1.479 +/- 0.0389   Mbar = -2.692 +/- 0.12\n",
      "c5: (g_z) = 1.476 +/- 0.0399   Mbar = -2.7 +/- 0.122\n"
     ]
    },
    {
     "data": {
      "text/plain": [
       "{'c0': {'g_z': (1.4754031333923343, 0.03802959373961284),\n",
       "  'Mbar': (-2.7011292318725575, 0.11892696918697626)},\n",
       " 'c1': {'g_z': (1.480511781692505, 0.03802959373961284),\n",
       "  'Mbar': (-2.6900945515441888, 0.11892696918697626)},\n",
       " 'c2': {'g_z': (1.479494842529297, 0.03891336531321853),\n",
       "  'Mbar': (-2.6922911401367178, 0.12025341907821165)},\n",
       " 'c5': {'g_z': (1.4758999196290972, 0.039877938763180826),\n",
       "  'Mbar': (-2.70005617360115, 0.1217188169512011)}}"
      ]
     },
     "execution_count": 14,
     "metadata": {},
     "output_type": "execute_result"
    }
   ],
   "source": [
    "gz_Mbar = get_Mbar(\n",
    "         Mbar_filter = \"F110W\",     # F110W or F160W\n",
    "         color_camera = \"PS\",       # PS, SDSS, DECam, ACS, 2MASS, WFC3IR\n",
    "         calib_mode = \"linear\",     # linear, quadratic, group, individual; linear default\n",
    "         calib_color = \"g-z\",       # g-z or j-h\n",
    "         color_json = \"u12517_color_ps_gz.json\",\n",
    "         verbose=True)\n",
    "\n",
    "gz_Mbar"
   ]
  },
  {
   "cell_type": "code",
   "execution_count": null,
   "id": "acc432b2",
   "metadata": {},
   "outputs": [],
   "source": []
  },
  {
   "cell_type": "code",
   "execution_count": 17,
   "id": "30a5d14b",
   "metadata": {},
   "outputs": [
    {
     "name": "stdout",
     "output_type": "stream",
     "text": [
      "c0: mbar = 31.64  +/- 0.047\n",
      "c1: mbar = 31.59  +/- 0.052\n",
      "c2: mbar = 31.51  +/- 0.077\n",
      "c5: mbar = 31.46  +/- 0.16\n"
     ]
    }
   ],
   "source": [
    "# Get SBF data from bestfluc output in json format--or better yet, just add all of this to bestfluc!\n",
    "# Bestfluc already has all this information, but it lacks the calibration definitions and colors.\n",
    "\n",
    "# These values for U12517 are for testing.\n",
    "ext_110 = 0.164\n",
    "sky = 3250      # background, eliprof notebook\n",
    "rc0 = 6.4       # get_sbf results <r> =  99.5 \n",
    "rc1 = 12.7      # the average radius of each anulus\n",
    "rc2 = 25.2\n",
    "rc5 = 50\n",
    "fracc0 = 0.9    # comes from get_sbf - number of unmasked pixels in an anulus  comupted by bestfluc (sliver)\n",
    "fracc1 = 0.89   # for now I assume it is == 1 \n",
    "fracc2 = 0.85\n",
    "fracc5 = 0.78\n",
    "galskyc0 = 16.4  # ratio of the gal brightness to background\n",
    "galskyc1 = 5.1   \n",
    "galskyc2 = 1.43\n",
    "galskyc5 = 0.335\n",
    "PrP0c0 = 0.07    # ratio or Pr/P0\n",
    "PrP0c1 = 0.068\n",
    "PrP0c2 = 0.097\n",
    "PrP0c5 = 0.213\n",
    "snrc0 = 9.65    # (P0-Pr)/P1\n",
    "snrc1 = 10.3\n",
    "snrc2 = 8.6\n",
    "snrc5 = 3.6\n",
    "GCpeak = 25.0         # mag of the GCLF peak --> likenew notebook\n",
    "GCpeakdist = 70       # distance that used to compute the GCLF peak\n",
    "GCpeakdiffc0 = 0.52   # GCLF peak - completness magnitude : bad if it's a big number (>~0.5 mg)\n",
    "GCpeakdiffc1 = 0.12\n",
    "GCpeakdiffc2 = -0.16\n",
    "GCpeakdiffc5 = -0.34\n",
    "mbarc0 = 31.64      # fluctation magnitudes  <- get_sbf\n",
    "mbarc1 = 31.59\n",
    "mbarc2 = 31.51\n",
    "mbarc5 = 31.46\n",
    "P0sigc0 = 0.02     # fit uncertainty on P0\n",
    "P0sigc1 = 0.02\n",
    "P0sigc2 = 0.03\n",
    "P0sigc5 = 0.07\n",
    "skysigc0 = 0.02    # Monte carlo  -> sigma due to sky uncertainty\n",
    "skysigc1 = 0.03\n",
    "skysigc2 = 0.05\n",
    "skysigc5 = 0.10\n",
    "psfsigc0 = 0.015\n",
    "psfsigc1 = 0.015\n",
    "psfsigc2 = 0.015\n",
    "psfsigc5 = 0.015\n",
    "Prsigc0 = Prsig * PrP0c0 \n",
    "Prsigc1 = Prsig * PrP0c1\n",
    "Prsigc2 = Prsig * PrP0c2\n",
    "Prsigc5 = Prsig * PrP0c5\n",
    "\n",
    "# combine observational uncertainties in quadrature\n",
    "mbarsigc0 = math.sqrt(P0sigc0**2 + skysigc0**2 + psfsigc0**2 + Prsigc0**2)\n",
    "mbarsigc1 = math.sqrt(P0sigc1**2 + skysigc1**2 + psfsigc1**2 + Prsigc1**2)\n",
    "mbarsigc2 = math.sqrt(P0sigc2**2 + skysigc2**2 + psfsigc2**2 + Prsigc2**2)\n",
    "mbarsigc5 = math.sqrt(P0sigc5**2 + skysigc5**2 + psfsigc5**2 + Prsigc5**2)\n",
    "    \n",
    "print(\"c0: mbar =\", \"{:.5}\".format(mbarc0),\" +/-\",\"{:.2}\".format(mbarsigc0))\n",
    "print(\"c1: mbar =\", \"{:.5}\".format(mbarc1),\" +/-\",\"{:.2}\".format(mbarsigc1))\n",
    "print(\"c2: mbar =\", \"{:.5}\".format(mbarc2),\" +/-\",\"{:.2}\".format(mbarsigc2))\n",
    "print(\"c5: mbar =\", \"{:.5}\".format(mbarc5),\" +/-\",\"{:.2}\".format(mbarsigc5))\n"
   ]
  },
  {
   "cell_type": "code",
   "execution_count": null,
   "id": "f844d36e",
   "metadata": {},
   "outputs": [],
   "source": [
    "# conditions to reject result"
   ]
  },
  {
   "cell_type": "code",
   "execution_count": 8,
   "id": "b322e9a8",
   "metadata": {},
   "outputs": [
    {
     "name": "stdout",
     "output_type": "stream",
     "text": [
      "Min of (P0-Pr)/P1 =  5\n",
      "Max GCLF peak - limiting mag =  0.5\n",
      "Min fraction unmasked pixels =  0.5\n",
      "Min galaxy/sky = 0.5\n",
      "Max Pr/P0 =  0.1\n",
      "Max mbar uncertainty =  0.2\n",
      "Min (g-z) = 1.2\n",
      "Min (J-H) = 0.22\n",
      "\n"
     ]
    },
    {
     "ename": "NameError",
     "evalue": "name 'snrc0' is not defined",
     "output_type": "error",
     "traceback": [
      "\u001b[0;31m---------------------------------------------------------------------------\u001b[0m",
      "\u001b[0;31mNameError\u001b[0m                                 Traceback (most recent call last)",
      "\u001b[0;32m<ipython-input-8-00191381335b>\u001b[0m in \u001b[0;36m<module>\u001b[0;34m\u001b[0m\n\u001b[1;32m     11\u001b[0m \u001b[0musec0\u001b[0m\u001b[0;34m=\u001b[0m\u001b[0;32mFalse\u001b[0m\u001b[0;34m;\u001b[0m \u001b[0musec1\u001b[0m\u001b[0;34m=\u001b[0m\u001b[0;32mFalse\u001b[0m\u001b[0;34m;\u001b[0m \u001b[0musec2\u001b[0m\u001b[0;34m=\u001b[0m\u001b[0;32mFalse\u001b[0m\u001b[0;34m;\u001b[0m \u001b[0musec5\u001b[0m\u001b[0;34m=\u001b[0m\u001b[0;32mFalse\u001b[0m\u001b[0;34m\u001b[0m\u001b[0;34m\u001b[0m\u001b[0m\n\u001b[1;32m     12\u001b[0m \u001b[0;34m\u001b[0m\u001b[0m\n\u001b[0;32m---> 13\u001b[0;31m \u001b[0;32mif\u001b[0m \u001b[0msnrc0\u001b[0m\u001b[0;34m>\u001b[0m\u001b[0mminsnr\u001b[0m \u001b[0;32mand\u001b[0m \u001b[0mGCpeakdiffc0\u001b[0m\u001b[0;34m<\u001b[0m\u001b[0mmaxGCpeakdiff\u001b[0m \u001b[0;32mand\u001b[0m \u001b[0mfracc0\u001b[0m\u001b[0;34m>\u001b[0m\u001b[0mminfrac\u001b[0m \u001b[0;32mand\u001b[0m \u001b[0mgalskyc0\u001b[0m\u001b[0;34m>\u001b[0m\u001b[0mmingalsky\u001b[0m \u001b[0;32mand\u001b[0m \u001b[0mPrP0c0\u001b[0m\u001b[0;34m<\u001b[0m\u001b[0mmaxPrP0\u001b[0m \u001b[0;32mand\u001b[0m \u001b[0mmbarsigc0\u001b[0m\u001b[0;34m<\u001b[0m\u001b[0mmaxmbarsig\u001b[0m \u001b[0;32mand\u001b[0m \u001b[0macs_gzc0\u001b[0m\u001b[0;34m>\u001b[0m\u001b[0mmingz\u001b[0m\u001b[0;34m:\u001b[0m\u001b[0;34m\u001b[0m\u001b[0;34m\u001b[0m\u001b[0m\n\u001b[0m\u001b[1;32m     14\u001b[0m     \u001b[0musec0\u001b[0m\u001b[0;34m=\u001b[0m\u001b[0;32mTrue\u001b[0m\u001b[0;34m\u001b[0m\u001b[0;34m\u001b[0m\u001b[0m\n\u001b[1;32m     15\u001b[0m     \u001b[0mprint\u001b[0m\u001b[0;34m(\u001b[0m\u001b[0;34m\"Including c0\"\u001b[0m\u001b[0;34m)\u001b[0m\u001b[0;34m\u001b[0m\u001b[0;34m\u001b[0m\u001b[0m\n",
      "\u001b[0;31mNameError\u001b[0m: name 'snrc0' is not defined"
     ]
    }
   ],
   "source": [
    "# Identify good regions to use\n",
    "print(\"Min of (P0-Pr)/P1 = \",minsnr)\n",
    "print(\"Max GCLF peak - limiting mag = \",maxGCpeakdiff)\n",
    "print(\"Min fraction unmasked pixels = \", minfrac)\n",
    "print(\"Min galaxy/sky =\", mingalsky)\n",
    "print(\"Max Pr/P0 = \", maxPrP0)\n",
    "print(\"Max mbar uncertainty = \", maxmbarsig)\n",
    "print(\"Min (g-z) =\",mingz)\n",
    "print(\"Min (J-H) =\",minjh)\n",
    "print(\"\")\n",
    "usec0=False; usec1=False; usec2=False; usec5=False\n",
    "\n",
    "if snrc0>minsnr and GCpeakdiffc0<maxGCpeakdiff and fracc0>minfrac and galskyc0>mingalsky and PrP0c0<maxPrP0 and mbarsigc0<maxmbarsig and acs_gzc0>mingz:\n",
    "    usec0=True\n",
    "    print(\"Including c0\")\n",
    "if snrc1>minsnr and GCpeakdiffc1<maxGCpeakdiff and fracc1>minfrac and galskyc1>mingalsky and PrP0c1<maxPrP0 and mbarsigc1<maxmbarsig and acs_gzc1>mingz:\n",
    "    usec1=True\n",
    "    print(\"Including c1\")\n",
    "if snrc2>minsnr and GCpeakdiffc2<maxGCpeakdiff and fracc2>minfrac and galskyc2>mingalsky and PrP0c2<maxPrP0 and mbarsigc2<maxmbarsig and acs_gzc2>mingz:\n",
    "    usec2=True\n",
    "    print(\"Including c2\")\n",
    "if snrc5>minsnr and GCpeakdiffc5<maxGCpeakdiff and fracc5>minfrac and galskyc5>mingalsky and PrP0c5<maxPrP0 and mbarsigc5<maxmbarsig and acs_gzc5>mingz:\n",
    "    usec5=True\n",
    "    print(\"Including c5\")\n",
    "   "
   ]
  },
  {
   "cell_type": "code",
   "execution_count": null,
   "id": "68247334",
   "metadata": {},
   "outputs": [],
   "source": []
  },
  {
   "cell_type": "code",
   "execution_count": null,
   "id": "22f8d6e7",
   "metadata": {},
   "outputs": [],
   "source": [
    "# Calculate distances and uncertainties\n",
    "\n",
    "distmodc0 = (mbarc0 - Mbarc0)\n",
    "distmodc1 = (mbarc1 - Mbarc1)\n",
    "distmodc2 = (mbarc2 - Mbarc2)\n",
    "distmodc5 = (mbarc5 - Mbarc5)\n",
    "\n",
    "distmodsigc0 = math.sqrt(mbarsigc0**2 + Mbarsigc0**2)\n",
    "distmodsigc1 = math.sqrt(mbarsigc1**2 + Mbarsigc1**2)\n",
    "distmodsigc2 = math.sqrt(mbarsigc2**2 + Mbarsigc2**2)\n",
    "distmodsigc5 = math.sqrt(mbarsigc5**2 + Mbarsigc5**2)\n",
    "\n",
    "# these are calculated here for reference but are not used later.\n",
    "distc0 = 10**(distmodc0/5 - 5)\n",
    "distc1 = 10**(distmodc1/5 - 5)\n",
    "distc2 = 10**(distmodc2/5 - 5)\n",
    "distc5 = 10**(distmodc5/5 - 5)\n",
    "\n",
    "distsigc0 = (10**((distmodc0+distmodsigc0)/5 - 5) - 10**((distmodc0-distmodsigc0)/5 - 5)) / 2\n",
    "distsigc1 = (10**((distmodc1+distmodsigc1)/5 - 5) - 10**((distmodc1-distmodsigc1)/5 - 5)) / 2\n",
    "distsigc2 = (10**((distmodc2+distmodsigc2)/5 - 5) - 10**((distmodc2-distmodsigc2)/5 - 5)) / 2\n",
    "distsigc5 = (10**((distmodc5+distmodsigc5)/5 - 5) - 10**((distmodc5-distmodsigc5)/5 - 5)) / 2\n",
    "\n",
    "n=0\n",
    "if usec0:\n",
    "    n=n+1\n",
    "    print(\"c0: (m-M) =\", \"{:.5}\".format(distmodc0),\" +/-\",\"{:.3}\".format(distmodsigc0),\"  d =\",\"{:.3}\".format(distc0),\" +/-\",\"{:.2}\".format(distsigc0),\" Mpc\")\n",
    "if usec1:\n",
    "    n=n+1\n",
    "    print(\"c1: (m-M) =\", \"{:.5}\".format(distmodc1),\" +/-\",\"{:.3}\".format(distmodsigc1),\"  d =\",\"{:.3}\".format(distc1),\" +/-\",\"{:.2}\".format(distsigc1),\" Mpc\")\n",
    "if usec2:\n",
    "    n=n+1\n",
    "    print(\"c2: (m-M) =\", \"{:.5}\".format(distmodc2),\" +/-\",\"{:.3}\".format(distmodsigc2),\"  d =\",\"{:.3}\".format(distc2),\" +/-\",\"{:.2}\".format(distsigc2),\" Mpc\")\n",
    "if usec5:\n",
    "    n=n+1\n",
    "    print(\"c5: (m-M) =\", \"{:.5}\".format(distmodc5),\" +/-\",\"{:.3}\".format(distmodsigc5),\"  d =\",\"{:.3}\".format(distc5),\" +/-\",\"{:.2}\".format(distsigc5),\" Mpc\")\n",
    "\n",
    "# write distances and uncertainties to the output file"
   ]
  },
  {
   "cell_type": "code",
   "execution_count": 9,
   "id": "94499064",
   "metadata": {},
   "outputs": [
    {
     "ename": "NameError",
     "evalue": "name 'math' is not defined",
     "output_type": "error",
     "traceback": [
      "\u001b[0;31m---------------------------------------------------------------------------\u001b[0m",
      "\u001b[0;31mNameError\u001b[0m                                 Traceback (most recent call last)",
      "\u001b[0;32m<ipython-input-9-8ba62a68dc0b>\u001b[0m in \u001b[0;36m<module>\u001b[0;34m\u001b[0m\n\u001b[1;32m     12\u001b[0m \u001b[0;34m\u001b[0m\u001b[0m\n\u001b[1;32m     13\u001b[0m \u001b[0;31m# annular regions are treated as independent measurements for weighted average and uncertainties\u001b[0m\u001b[0;34m\u001b[0m\u001b[0;34m\u001b[0m\u001b[0;34m\u001b[0m\u001b[0m\n\u001b[0;32m---> 14\u001b[0;31m \u001b[0mdistmodwtav\u001b[0m \u001b[0;34m=\u001b[0m \u001b[0mmath\u001b[0m\u001b[0;34m.\u001b[0m\u001b[0msqrt\u001b[0m\u001b[0;34m(\u001b[0m\u001b[0mdistmodc0\u001b[0m\u001b[0;34m**\u001b[0m\u001b[0;36m2\u001b[0m\u001b[0;34m/\u001b[0m\u001b[0mdistmodsigc0\u001b[0m\u001b[0;34m**\u001b[0m\u001b[0;36m2\u001b[0m \u001b[0;34m+\u001b[0m \u001b[0mdistmodc1\u001b[0m\u001b[0;34m**\u001b[0m\u001b[0;36m2\u001b[0m\u001b[0;34m/\u001b[0m\u001b[0mdistmodsigc1\u001b[0m\u001b[0;34m**\u001b[0m\u001b[0;36m2\u001b[0m \u001b[0;34m+\u001b[0m \u001b[0mdistmodc2\u001b[0m\u001b[0;34m**\u001b[0m\u001b[0;36m2\u001b[0m\u001b[0;34m/\u001b[0m\u001b[0mdistmodsigc2\u001b[0m\u001b[0;34m**\u001b[0m\u001b[0;36m2\u001b[0m \u001b[0;34m+\u001b[0m \u001b[0mdistmodc5\u001b[0m\u001b[0;34m**\u001b[0m\u001b[0;36m2\u001b[0m\u001b[0;34m/\u001b[0m\u001b[0mdistmodsigc5\u001b[0m\u001b[0;34m**\u001b[0m\u001b[0;36m2\u001b[0m\u001b[0;34m)\u001b[0m \u001b[0;34m/\u001b[0m \u001b[0mmath\u001b[0m\u001b[0;34m.\u001b[0m\u001b[0msqrt\u001b[0m\u001b[0;34m(\u001b[0m\u001b[0;36m1\u001b[0m\u001b[0;34m/\u001b[0m\u001b[0mdistmodsigc0\u001b[0m\u001b[0;34m**\u001b[0m\u001b[0;36m2\u001b[0m \u001b[0;34m+\u001b[0m \u001b[0;36m1\u001b[0m\u001b[0;34m/\u001b[0m\u001b[0mdistmodsigc1\u001b[0m\u001b[0;34m**\u001b[0m\u001b[0;36m2\u001b[0m \u001b[0;34m+\u001b[0m \u001b[0;36m1\u001b[0m\u001b[0;34m/\u001b[0m\u001b[0mdistmodsigc2\u001b[0m\u001b[0;34m**\u001b[0m\u001b[0;36m2\u001b[0m \u001b[0;34m+\u001b[0m \u001b[0;36m1\u001b[0m\u001b[0;34m/\u001b[0m\u001b[0mdistmodsigc5\u001b[0m\u001b[0;34m**\u001b[0m\u001b[0;36m2\u001b[0m\u001b[0;34m)\u001b[0m\u001b[0;34m\u001b[0m\u001b[0;34m\u001b[0m\u001b[0m\n\u001b[0m\u001b[1;32m     15\u001b[0m \u001b[0mmbarsigwtav\u001b[0m \u001b[0;34m=\u001b[0m \u001b[0;36m1\u001b[0m \u001b[0;34m/\u001b[0m \u001b[0mmath\u001b[0m\u001b[0;34m.\u001b[0m\u001b[0msqrt\u001b[0m\u001b[0;34m(\u001b[0m\u001b[0;36m1\u001b[0m\u001b[0;34m/\u001b[0m\u001b[0mmbarsigc0\u001b[0m\u001b[0;34m**\u001b[0m\u001b[0;36m2\u001b[0m \u001b[0;34m+\u001b[0m \u001b[0;36m1\u001b[0m\u001b[0;34m/\u001b[0m\u001b[0mmbarsigc1\u001b[0m\u001b[0;34m**\u001b[0m\u001b[0;36m2\u001b[0m \u001b[0;34m+\u001b[0m \u001b[0;36m1\u001b[0m\u001b[0;34m/\u001b[0m\u001b[0mmbarsigc2\u001b[0m\u001b[0;34m**\u001b[0m\u001b[0;36m2\u001b[0m \u001b[0;34m+\u001b[0m \u001b[0;36m1\u001b[0m\u001b[0;34m/\u001b[0m\u001b[0mmbarsigc5\u001b[0m\u001b[0;34m**\u001b[0m\u001b[0;36m2\u001b[0m\u001b[0;34m)\u001b[0m\u001b[0;34m\u001b[0m\u001b[0;34m\u001b[0m\u001b[0m\n\u001b[1;32m     16\u001b[0m \u001b[0;34m\u001b[0m\u001b[0m\n",
      "\u001b[0;31mNameError\u001b[0m: name 'math' is not defined"
     ]
    }
   ],
   "source": [
    "# Weighted average distances for good annuli only\n",
    "\n",
    "# Note that this section trashes the computed values for the excluded regions, so you need to rerun the code from the beginning.\n",
    "if not usec0:\n",
    "    distmodc0=0; distmodsigc0=1E9; mbarsigc0=1E9; Mbarsigc0=0\n",
    "if not usec1:\n",
    "    distmodc1=0; distmodsigc1=1E9; mbarsigc1=1E9; Mbarsigc1=0\n",
    "if not usec2:\n",
    "    distmodc2=0; distmodsigc2=1E9; mbarsigc2=1E9; Mbarsigc2=0\n",
    "if not usec5:\n",
    "    distmodc5=0; distmodsigc5=1E9; mbarsigc5=1E9; Mbarsigc5=0\n",
    "\n",
    "# annular regions are treated as independent measurements for weighted average and uncertainties\n",
    "distmodwtav = math.sqrt(distmodc0**2/distmodsigc0**2 + distmodc1**2/distmodsigc1**2 + distmodc2**2/distmodsigc2**2 + distmodc5**2/distmodsigc5**2) / math.sqrt(1/distmodsigc0**2 + 1/distmodsigc1**2 + 1/distmodsigc2**2 + 1/distmodsigc5**2)\n",
    "mbarsigwtav = 1 / math.sqrt(1/mbarsigc0**2 + 1/mbarsigc1**2 + 1/mbarsigc2**2 + 1/mbarsigc5**2)\n",
    "\n",
    "# Extintion uncertainty is not independent for annuli, it's systematic, so add it on\n",
    "mbarsigwtav = (ext_sig * ext) + mbarsigwtav  # add systematic uncertainty from extinction to obs error\n",
    "\n",
    "# Calibration Mbar uncertainties are not really independent for each region. Just average them.\n",
    "Mbarsigwtav = (Mbarsigc0 + Mbarsigc1 + Mbarsigc2 + Mbarsigc5)/n\n",
    "\n",
    "\n",
    "distmodsigwtav = math.sqrt(mbarsigwtav**2 + Mbarsigwtav**2)  # add obs and cal errors in quadrature\n",
    "\n",
    "distwtav = 10**(distmodwtav/5 - 5)\n",
    "# Distance uncertainties are not symmetrical in distance. I just average the + and - uncertaintes...\n",
    "distsigwtavplus = 10**((distmodwtav+distmodsigwtav)/5 -5) - distwtav\n",
    "distsigwtavminus = distwtav - 10**((distmodwtav-distmodsigwtav)/5 -5)\n",
    "distsigwtav = (distsigwtavplus + distsigwtavminus) / 2\n",
    "\n",
    "print(\"(m-M) =\",\"{:.5}\".format(distmodwtav),\"+/-\",\"{:.3}\".format(distmodsigwtav))\n",
    "print(\"d =\",\"{:.3}\".format(distwtav),\"+/-\",\"{:.2}\".format(distsigwtav))\n",
    "print(\"d =\",\"{:.3}\".format(distwtav),\"+\",\"{:.2}\".format(distsigwtavplus),\"-\",\"{:.2}\".format(distsigwtavminus))\n",
    "\n",
    "# Write results to the output file.\n"
   ]
  },
  {
   "cell_type": "code",
   "execution_count": null,
   "id": "3846aa58",
   "metadata": {},
   "outputs": [],
   "source": [
    "# more ./wfc3-16262/u11990/u11990doj.MBAR \n",
    "# the output ogf bestfluc"
   ]
  },
  {
   "cell_type": "code",
   "execution_count": null,
   "id": "473fe95f",
   "metadata": {},
   "outputs": [],
   "source": []
  }
 ],
 "metadata": {
  "kernelspec": {
   "display_name": "Python 3",
   "language": "python",
   "name": "python3"
  },
  "language_info": {
   "codemirror_mode": {
    "name": "ipython",
    "version": 3
   },
   "file_extension": ".py",
   "mimetype": "text/x-python",
   "name": "python",
   "nbconvert_exporter": "python",
   "pygments_lexer": "ipython3",
   "version": "3.8.5"
  }
 },
 "nbformat": 4,
 "nbformat_minor": 5
}
