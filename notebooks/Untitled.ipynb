{
 "cells": [
  {
   "cell_type": "code",
   "execution_count": 58,
   "id": "f35ab091",
   "metadata": {},
   "outputs": [],
   "source": [
    "import sys, os\n",
    "import bs4\n",
    "from urllib.request import urlopen as uReq\n",
    "from bs4 import BeautifulSoup as soup\n",
    "import glob\n",
    "import re\n",
    "import requests\n",
    "import pandas as pd"
   ]
  },
  {
   "cell_type": "code",
   "execution_count": 2,
   "id": "db8a780c",
   "metadata": {},
   "outputs": [],
   "source": [
    "def xcmd(cmd, verbose=False):\n",
    "    \n",
    "    if verbose: print('\\n'+cmd)\n",
    "\n",
    "    tmp=os.popen(cmd)\n",
    "    output=''\n",
    "    for x in tmp: output+=x\n",
    "    if 'abort' in output:\n",
    "        failure=True\n",
    "    else:\n",
    "        failure=tmp.close()\n",
    "    if failure:\n",
    "        print('execution of %s failed' % cmd)\n",
    "        print('error is as follows',output)\n",
    "        sys.exit()\n",
    "    else:\n",
    "        return output"
   ]
  },
  {
   "cell_type": "code",
   "execution_count": 3,
   "id": "fb40c8fc",
   "metadata": {},
   "outputs": [],
   "source": [
    "def mySoup(my_url):\n",
    "    \n",
    "    uClient = uReq(my_url)\n",
    "    page_html = uClient.read()\n",
    "    uClient.close()\n",
    "    page_soup = soup(page_html, \"html.parser\")    \n",
    "    \n",
    "    return page_soup\n"
   ]
  },
  {
   "cell_type": "code",
   "execution_count": null,
   "id": "041955bf",
   "metadata": {},
   "outputs": [],
   "source": []
  },
  {
   "cell_type": "code",
   "execution_count": 100,
   "id": "c38da01c",
   "metadata": {},
   "outputs": [],
   "source": [
    "# based on \n",
    "# https://ned.ipac.caltech.edu/forms/gmd.html"
   ]
  },
  {
   "cell_type": "code",
   "execution_count": 110,
   "id": "00bfaba6",
   "metadata": {},
   "outputs": [],
   "source": [
    "def fix_name(name):\n",
    "    return \"+\".join([x.upper() for x in name.strip().rsplit(\" \") if x!=\"\"])\n",
    "\n",
    "def get_ned_info(name_list):\n",
    "\n",
    "    query = \"\"\n",
    "    for i, name in enumerate(name_list):\n",
    "        if i==0:\n",
    "            query += fix_name(name)\n",
    "        else:\n",
    "            query = query + \"%0D%0A\" + fix_name(name)\n",
    "\n",
    "\n",
    "\n",
    "    # query = \"UGC+12517%0D%0ANGC+2557\"\n",
    "    my_url = \"https://ned.ipac.caltech.edu/cgi-bin/gmd?uplist={}&delimiter=bar&NO_LINKS=1&nondb=row_count&nondb=user_name_msg&nondb=user_objname&crosid=objname&position=ra%2Cdec&position=gallon%2Cgallat&position=bhextin&attdat=attned&gphotoms=q_value&gphotoms=q_unc&gphotoms=ned_value&gphotoms=ned_unc&diamdat=ned_maj_dia&distance=avg&distance=stddev_samp\".format(query)\n",
    "    page_soup = mySoup(my_url)\n",
    "\n",
    "    rows = page_soup.findAll(\"pre\")[0].text.split(\"\\n\")\n",
    "\n",
    "    columns = None\n",
    "    output = {}\n",
    "\n",
    "\n",
    "    for i, row in enumerate(rows):\n",
    "\n",
    "        cols = row.split(\"|\")\n",
    "        cl = []\n",
    "        for c in cols:\n",
    "            cc = c.strip()\n",
    "            if cc != \"\":\n",
    "                if cc == \"Burstein\":\n",
    "                    cc = \"Extinction\"\n",
    "                cl.append(cc)\n",
    "\n",
    "        try:\n",
    "            if cl[0] == \"Row\":\n",
    "                columns = cl\n",
    "        except:\n",
    "            pass\n",
    "        try:\n",
    "            if int(cl[0])>0:\n",
    "                output[cl[1]] = cl\n",
    "\n",
    "        except:\n",
    "            pass\n",
    "        \n",
    "    if columns and output:\n",
    "        return pd.DataFrame.from_dict(output, orient=\"index\", columns=columns)\n",
    "\n",
    "    return None\n"
   ]
  },
  {
   "cell_type": "code",
   "execution_count": 111,
   "id": "605d3c17",
   "metadata": {},
   "outputs": [
    {
     "data": {
      "text/html": [
       "<div>\n",
       "<style scoped>\n",
       "    .dataframe tbody tr th:only-of-type {\n",
       "        vertical-align: middle;\n",
       "    }\n",
       "\n",
       "    .dataframe tbody tr th {\n",
       "        vertical-align: top;\n",
       "    }\n",
       "\n",
       "    .dataframe thead th {\n",
       "        text-align: right;\n",
       "    }\n",
       "</style>\n",
       "<table border=\"1\" class=\"dataframe\">\n",
       "  <thead>\n",
       "    <tr style=\"text-align: right;\">\n",
       "      <th></th>\n",
       "      <th>Row</th>\n",
       "      <th>Input Object Name</th>\n",
       "      <th>Object Name</th>\n",
       "      <th>RA</th>\n",
       "      <th>Dec</th>\n",
       "      <th>Gal</th>\n",
       "      <th>Gal</th>\n",
       "      <th>Extinction</th>\n",
       "      <th>Row</th>\n",
       "    </tr>\n",
       "  </thead>\n",
       "  <tbody>\n",
       "    <tr>\n",
       "      <th>UGC 12517</th>\n",
       "      <td>1</td>\n",
       "      <td>UGC 12517</td>\n",
       "      <td>UGC 12517</td>\n",
       "      <td>23h19m54.44s</td>\n",
       "      <td>+43d57m27.8s</td>\n",
       "      <td>106.013</td>\n",
       "      <td>-15.886</td>\n",
       "      <td>0.753</td>\n",
       "      <td>1</td>\n",
       "    </tr>\n",
       "    <tr>\n",
       "      <th>NGC 2557</th>\n",
       "      <td>2</td>\n",
       "      <td>NGC 2557</td>\n",
       "      <td>NGC 2557</td>\n",
       "      <td>08h19m10.75s</td>\n",
       "      <td>+21d26m08.8s</td>\n",
       "      <td>202.005</td>\n",
       "      <td>28.432</td>\n",
       "      <td>0.121</td>\n",
       "      <td>2</td>\n",
       "    </tr>\n",
       "    <tr>\n",
       "      <th>PGC 2557</th>\n",
       "      <td>3</td>\n",
       "      <td>PGC 2557</td>\n",
       "      <td>MESSIER 031</td>\n",
       "      <td>00h42m44.35s</td>\n",
       "      <td>+41d16m08.6s</td>\n",
       "      <td>121.174</td>\n",
       "      <td>-21.573</td>\n",
       "      <td>0.301</td>\n",
       "      <td>3</td>\n",
       "    </tr>\n",
       "  </tbody>\n",
       "</table>\n",
       "</div>"
      ],
      "text/plain": [
       "          Row Input Object Name  Object Name            RA           Dec  \\\n",
       "UGC 12517   1         UGC 12517    UGC 12517  23h19m54.44s  +43d57m27.8s   \n",
       "NGC 2557    2          NGC 2557     NGC 2557  08h19m10.75s  +21d26m08.8s   \n",
       "PGC 2557    3          PGC 2557  MESSIER 031  00h42m44.35s  +41d16m08.6s   \n",
       "\n",
       "               Gal      Gal Extinction Row  \n",
       "UGC 12517  106.013  -15.886      0.753   1  \n",
       "NGC 2557   202.005   28.432      0.121   2  \n",
       "PGC 2557   121.174  -21.573      0.301   3  "
      ]
     },
     "execution_count": 111,
     "metadata": {},
     "output_type": "execute_result"
    }
   ],
   "source": [
    "name_list = [\n",
    "    \"UGC 12517\",\n",
    "    \"NGC 2557\",\n",
    "    \"pgc 2557\",\n",
    "    ]\n",
    "\n",
    "get_ned_info(name_list)"
   ]
  },
  {
   "cell_type": "code",
   "execution_count": 116,
   "id": "dbc299f7",
   "metadata": {},
   "outputs": [
    {
     "data": {
      "text/html": [
       "<div>\n",
       "<style scoped>\n",
       "    .dataframe tbody tr th:only-of-type {\n",
       "        vertical-align: middle;\n",
       "    }\n",
       "\n",
       "    .dataframe tbody tr th {\n",
       "        vertical-align: top;\n",
       "    }\n",
       "\n",
       "    .dataframe thead th {\n",
       "        text-align: right;\n",
       "    }\n",
       "</style>\n",
       "<table border=\"1\" class=\"dataframe\">\n",
       "  <thead>\n",
       "    <tr style=\"text-align: right;\">\n",
       "      <th></th>\n",
       "      <th>Row</th>\n",
       "      <th>Input Object Name</th>\n",
       "      <th>Object Name</th>\n",
       "      <th>RA</th>\n",
       "      <th>Dec</th>\n",
       "      <th>Gal</th>\n",
       "      <th>Gal</th>\n",
       "      <th>Extinction</th>\n",
       "      <th>Row</th>\n",
       "    </tr>\n",
       "  </thead>\n",
       "  <tbody>\n",
       "    <tr>\n",
       "      <th>M31</th>\n",
       "      <td>1</td>\n",
       "      <td>M31</td>\n",
       "      <td>MESSIER 031</td>\n",
       "      <td>00h42m44.35s</td>\n",
       "      <td>+41d16m08.6s</td>\n",
       "      <td>121.174</td>\n",
       "      <td>-21.573</td>\n",
       "      <td>0.301</td>\n",
       "      <td>1</td>\n",
       "    </tr>\n",
       "    <tr>\n",
       "      <th>N2418</th>\n",
       "      <td>2</td>\n",
       "      <td>N2418</td>\n",
       "      <td>NGC 2418</td>\n",
       "      <td>07h36m37.51s</td>\n",
       "      <td>+17d53m02.1s</td>\n",
       "      <td>201.525</td>\n",
       "      <td>17.815</td>\n",
       "      <td>0.109</td>\n",
       "      <td>2</td>\n",
       "    </tr>\n",
       "  </tbody>\n",
       "</table>\n",
       "</div>"
      ],
      "text/plain": [
       "      Row Input Object Name  Object Name            RA           Dec      Gal  \\\n",
       "M31     1               M31  MESSIER 031  00h42m44.35s  +41d16m08.6s  121.174   \n",
       "N2418   2             N2418     NGC 2418  07h36m37.51s  +17d53m02.1s  201.525   \n",
       "\n",
       "           Gal Extinction Row  \n",
       "M31    -21.573      0.301   1  \n",
       "N2418   17.815      0.109   2  "
      ]
     },
     "execution_count": 116,
     "metadata": {},
     "output_type": "execute_result"
    }
   ],
   "source": [
    "name_list = [\n",
    "    \"m31\",\n",
    "    \"n2418\"\n",
    "    ]\n",
    "\n",
    "df = get_ned_info(name_list)\n",
    "df"
   ]
  },
  {
   "cell_type": "code",
   "execution_count": null,
   "id": "94aafdd2",
   "metadata": {},
   "outputs": [],
   "source": []
  },
  {
   "cell_type": "code",
   "execution_count": null,
   "id": "12efaaf4",
   "metadata": {},
   "outputs": [],
   "source": []
  },
  {
   "cell_type": "code",
   "execution_count": 52,
   "id": "21658b14",
   "metadata": {},
   "outputs": [
    {
     "data": {
      "text/plain": [
       "'1 of 1 detected input names were recognized by the NED name interpreter.'"
      ]
     },
     "execution_count": 52,
     "metadata": {},
     "output_type": "execute_result"
    }
   ],
   "source": [
    "page_soup.findAll(\"h2\")[0].findAll(\"font\")[0].text"
   ]
  },
  {
   "cell_type": "code",
   "execution_count": null,
   "id": "a0e59296",
   "metadata": {},
   "outputs": [],
   "source": []
  },
  {
   "cell_type": "code",
   "execution_count": 124,
   "id": "705a3afe",
   "metadata": {},
   "outputs": [
    {
     "data": {
      "text/plain": [
       "('00h42m44.35s', '+41d16m08.6s')"
      ]
     },
     "execution_count": 124,
     "metadata": {},
     "output_type": "execute_result"
    }
   ],
   "source": [
    "ra = df.iloc[0][\"RA\"]\n",
    "dec = df.iloc[0][\"Dec\"]\n",
    "ra, dec"
   ]
  },
  {
   "cell_type": "code",
   "execution_count": 119,
   "id": "840b8f10",
   "metadata": {},
   "outputs": [],
   "source": [
    "from astropy import units as u\n",
    "from astropy.coordinates import SkyCoord"
   ]
  },
  {
   "cell_type": "code",
   "execution_count": 128,
   "id": "bc4c97ce",
   "metadata": {},
   "outputs": [],
   "source": [
    "def to_degree(RA, Dec):\n",
    "    c = SkyCoord(RA, Dec)\n",
    "    return c.ra.degree, c.dec.degree\n",
    "    "
   ]
  },
  {
   "cell_type": "code",
   "execution_count": 135,
   "id": "19e11e8a",
   "metadata": {},
   "outputs": [
    {
     "data": {
      "text/html": [
       "<div>\n",
       "<style scoped>\n",
       "    .dataframe tbody tr th:only-of-type {\n",
       "        vertical-align: middle;\n",
       "    }\n",
       "\n",
       "    .dataframe tbody tr th {\n",
       "        vertical-align: top;\n",
       "    }\n",
       "\n",
       "    .dataframe thead th {\n",
       "        text-align: right;\n",
       "    }\n",
       "</style>\n",
       "<table border=\"1\" class=\"dataframe\">\n",
       "  <thead>\n",
       "    <tr style=\"text-align: right;\">\n",
       "      <th></th>\n",
       "      <th>Row</th>\n",
       "      <th>Input Object Name</th>\n",
       "      <th>Object Name</th>\n",
       "      <th>RA</th>\n",
       "      <th>Dec</th>\n",
       "      <th>Gal</th>\n",
       "      <th>Gal</th>\n",
       "      <th>Extinction</th>\n",
       "      <th>Row</th>\n",
       "      <th>x</th>\n",
       "      <th>ra_dec</th>\n",
       "    </tr>\n",
       "  </thead>\n",
       "  <tbody>\n",
       "    <tr>\n",
       "      <th>M31</th>\n",
       "      <td>1</td>\n",
       "      <td>M31</td>\n",
       "      <td>MESSIER 031</td>\n",
       "      <td>00h42m44.35s</td>\n",
       "      <td>+41d16m08.6s</td>\n",
       "      <td>121.174</td>\n",
       "      <td>-21.573</td>\n",
       "      <td>0.301</td>\n",
       "      <td>1</td>\n",
       "      <td>(10.684791666666664, 41.26905555555555)</td>\n",
       "      <td>(10.684791666666664, 41.26905555555555)</td>\n",
       "    </tr>\n",
       "    <tr>\n",
       "      <th>N2418</th>\n",
       "      <td>2</td>\n",
       "      <td>N2418</td>\n",
       "      <td>NGC 2418</td>\n",
       "      <td>07h36m37.51s</td>\n",
       "      <td>+17d53m02.1s</td>\n",
       "      <td>201.525</td>\n",
       "      <td>17.815</td>\n",
       "      <td>0.109</td>\n",
       "      <td>2</td>\n",
       "      <td>(114.15629166666665, 17.883916666666668)</td>\n",
       "      <td>(114.15629166666665, 17.883916666666668)</td>\n",
       "    </tr>\n",
       "  </tbody>\n",
       "</table>\n",
       "</div>"
      ],
      "text/plain": [
       "      Row Input Object Name  Object Name            RA           Dec      Gal  \\\n",
       "M31     1               M31  MESSIER 031  00h42m44.35s  +41d16m08.6s  121.174   \n",
       "N2418   2             N2418     NGC 2418  07h36m37.51s  +17d53m02.1s  201.525   \n",
       "\n",
       "           Gal Extinction Row                                         x  \\\n",
       "M31    -21.573      0.301   1   (10.684791666666664, 41.26905555555555)   \n",
       "N2418   17.815      0.109   2  (114.15629166666665, 17.883916666666668)   \n",
       "\n",
       "                                         ra_dec  \n",
       "M31     (10.684791666666664, 41.26905555555555)  \n",
       "N2418  (114.15629166666665, 17.883916666666668)  "
      ]
     },
     "execution_count": 135,
     "metadata": {},
     "output_type": "execute_result"
    }
   ],
   "source": [
    "df[\"ra_dec\"] = df.apply(lambda row: to_degree(row.RA, row.Dec), axis=1)\n",
    "df"
   ]
  },
  {
   "cell_type": "code",
   "execution_count": 136,
   "id": "72b43761",
   "metadata": {},
   "outputs": [],
   "source": [
    "ra, dec = df.iloc[0][\"ra_dec\"]"
   ]
  },
  {
   "cell_type": "code",
   "execution_count": 137,
   "id": "e5243945",
   "metadata": {},
   "outputs": [
    {
     "data": {
      "text/plain": [
       "(10.684791666666664, 41.26905555555555)"
      ]
     },
     "execution_count": 137,
     "metadata": {},
     "output_type": "execute_result"
    }
   ],
   "source": [
    "ra, dec"
   ]
  },
  {
   "cell_type": "code",
   "execution_count": null,
   "id": "6628a402",
   "metadata": {},
   "outputs": [],
   "source": [
    "\n"
   ]
  }
 ],
 "metadata": {
  "kernelspec": {
   "display_name": "Python 3",
   "language": "python",
   "name": "python3"
  },
  "language_info": {
   "codemirror_mode": {
    "name": "ipython",
    "version": 3
   },
   "file_extension": ".py",
   "mimetype": "text/x-python",
   "name": "python",
   "nbconvert_exporter": "python",
   "pygments_lexer": "ipython3",
   "version": "3.8.5"
  }
 },
 "nbformat": 4,
 "nbformat_minor": 5
}
